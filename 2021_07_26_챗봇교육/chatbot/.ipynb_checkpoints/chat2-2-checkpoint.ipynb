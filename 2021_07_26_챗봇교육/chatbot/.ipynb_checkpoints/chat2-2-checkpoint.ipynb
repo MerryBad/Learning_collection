{
 "cells": [
  {
   "cell_type": "code",
   "execution_count": 1,
   "id": "7ff0d14a",
   "metadata": {},
   "outputs": [],
   "source": [
    "## 챗봇에서 사용하는 사전 파일 생성"
   ]
  },
  {
   "cell_type": "code",
   "execution_count": 2,
   "id": "6912e5b6",
   "metadata": {},
   "outputs": [],
   "source": [
    "import warnings\n",
    "warnings.filterwarnings('ignore')"
   ]
  },
  {
   "cell_type": "code",
   "execution_count": 3,
   "id": "36b9fc58",
   "metadata": {},
   "outputs": [],
   "source": [
    "## train_tools/dict/create_dict.py\n",
    "from utils.Preprocess import Preprocess\n",
    "from tensorflow.keras import preprocessing\n",
    "import pickle\n",
    "\n",
    "# 말뭉치 데이터 읽어오기\n",
    "def read_corpus_data(filename):\n",
    "    with open(filename, 'r', encoding=\"UTF-8\") as f:\n",
    "        data = [line.split('\\t') for line in f.read().splitlines()]\n",
    "    return data\n",
    "\n",
    "\n",
    "# 말뭉치 데이터 가져오기\n",
    "corpus_data = read_corpus_data('./train_tools/dict/corpus.txt')\n",
    "\n",
    "\n",
    "# 말뭉치 데이터에서 키워드만 추출해서 사전 리스트 생성\n",
    "p = Preprocess(word2index_dic='./train_tools/dict/chatbot_dict.bin',\n",
    "               userdic = './utils/user_dic.tsv')\n",
    "dict = []\n",
    "for c in corpus_data:\n",
    "    pos = p.pos(c[1])\n",
    "    for k in pos:\n",
    "        dict.append(k[0])\n",
    "\n",
    "\n",
    "# 사전에 사용될 word2index 생성\n",
    "# 사전의 첫번 째 인덱스에는 OOV 사용\n",
    "tokenizer = preprocessing.text.Tokenizer(oov_token='OOV')\n",
    "tokenizer.fit_on_texts(dict)\n",
    "word_index = tokenizer.word_index\n",
    "\n",
    "# 사전 파일 생성\n",
    "f = open(\"./train_tools/dict/chatbot_dict.bin\", \"wb\")\n",
    "try:\n",
    "    pickle.dump(word_index, f)\n",
    "except Exception as e:\n",
    "    print(e)\n",
    "finally:\n",
    "    f.close()"
   ]
  },
  {
   "cell_type": "code",
   "execution_count": 4,
   "id": "c866b3a2",
   "metadata": {},
   "outputs": [],
   "source": [
    "## 테스트\n",
    "## test/chatbot_dict_test.py"
   ]
  },
  {
   "cell_type": "code",
   "execution_count": 5,
   "id": "97aaf201",
   "metadata": {},
   "outputs": [
    {
     "name": "stdout",
     "output_type": "stream",
     "text": [
      "내일 12\n",
      "오전 214\n",
      "10시 81\n",
      "탕수육 404\n",
      "주문 3\n",
      "싶 9\n",
      "ㅋㅋ 10844\n"
     ]
    }
   ],
   "source": [
    "import pickle\n",
    "from utils.Preprocess import Preprocess\n",
    "\n",
    "# 단어 사전 불러오기\n",
    "f = open(\"./train_tools/dict/chatbot_dict.bin\", \"rb\")\n",
    "word_index = pickle.load(f)\n",
    "f.close()\n",
    "\n",
    "sent = \"내일 오전 10시에 탕수육 주문하고 싶어 ㅋㅋ\"\n",
    "\n",
    "# 전처리 객체 생성\n",
    "p = Preprocess(userdic='./utils/user_dic.tsv')\n",
    "\n",
    "# 형태소분석기 실행\n",
    "pos = p.pos(sent)\n",
    "\n",
    "# 품사 태그 없이 키워드 출력\n",
    "keywords = p.get_keywords(pos, without_tag=True)\n",
    "for word in keywords:\n",
    "    try:\n",
    "        print(word, word_index[word])\n",
    "    except KeyError:\n",
    "        # 해당 단어가 사전에 없는 경우, OOV 처리\n",
    "        print(word, word_index['OOV'])\n"
   ]
  },
  {
   "cell_type": "code",
   "execution_count": 6,
   "id": "214bd365",
   "metadata": {},
   "outputs": [],
   "source": [
    "# end"
   ]
  }
 ],
 "metadata": {
  "kernelspec": {
   "display_name": "Python 3",
   "language": "python",
   "name": "python3"
  },
  "language_info": {
   "codemirror_mode": {
    "name": "ipython",
    "version": 3
   },
   "file_extension": ".py",
   "mimetype": "text/x-python",
   "name": "python",
   "nbconvert_exporter": "python",
   "pygments_lexer": "ipython3",
   "version": "3.8.10"
  }
 },
 "nbformat": 4,
 "nbformat_minor": 5
}
